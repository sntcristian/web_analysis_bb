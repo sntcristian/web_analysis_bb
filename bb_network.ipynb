{
  "nbformat": 4,
  "nbformat_minor": 0,
  "metadata": {
    "colab": {
      "name": "bb_network.ipynb",
      "provenance": [],
      "collapsed_sections": []
    },
    "kernelspec": {
      "name": "python3",
      "display_name": "Python 3"
    }
  },
  "cells": [
    {
      "cell_type": "markdown",
      "metadata": {
        "id": "cdvzVIilFh-n"
      },
      "source": [
        "# Breaking Bad Network Analysis"
      ]
    },
    {
      "cell_type": "markdown",
      "metadata": {
        "id": "a8nkfPi6LLHq"
      },
      "source": [
        "In this Jupyter Notebook I show how to conduct a network analysis on a graph representing interactions among characters in a plot.\r\n",
        "The Graph that we take in consideration was extracted by the famous tv-show *Breaking Bad*.\r\n",
        "The graph was created by [Francesco Bailo](https://github.com/fraba/bb_project) and it's available at this [link](http://www.francescobailo.net/wordpress/wp-content/uploads/data/breaking_bad_social_graph.json)."
      ]
    },
    {
      "cell_type": "markdown",
      "metadata": {
        "id": "o19w8ucpMPF6"
      },
      "source": [
        "## Data processing"
      ]
    },
    {
      "cell_type": "markdown",
      "metadata": {
        "id": "fd4JsBdcMUzB"
      },
      "source": [
        "First we upload the JSON file containing the list of nodes and edges of the graph."
      ]
    },
    {
      "cell_type": "code",
      "metadata": {
        "colab": {
          "resources": {
            "http://localhost:8080/nbextensions/google.colab/files.js": {
              "data": "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",
              "ok": true,
              "headers": [
                [
                  "content-type",
                  "application/javascript"
                ]
              ],
              "status": 200,
              "status_text": ""
            }
          },
          "base_uri": "https://localhost:8080/",
          "height": 73
        },
        "id": "409whtECFgzg",
        "outputId": "dcbdc013-fc21-4866-d9a1-0aec49e91863"
      },
      "source": [
        "from google.colab import files\r\n",
        "file1 = files.upload()"
      ],
      "execution_count": 1,
      "outputs": [
        {
          "output_type": "display_data",
          "data": {
            "text/html": [
              "\n",
              "     <input type=\"file\" id=\"files-08b7d194-53eb-4468-8966-405ec9dc706c\" name=\"files[]\" multiple disabled\n",
              "        style=\"border:none\" />\n",
              "     <output id=\"result-08b7d194-53eb-4468-8966-405ec9dc706c\">\n",
              "      Upload widget is only available when the cell has been executed in the\n",
              "      current browser session. Please rerun this cell to enable.\n",
              "      </output>\n",
              "      <script src=\"/nbextensions/google.colab/files.js\"></script> "
            ],
            "text/plain": [
              "<IPython.core.display.HTML object>"
            ]
          },
          "metadata": {
            "tags": []
          }
        },
        {
          "output_type": "stream",
          "text": [
            "Saving breaking_bad_social_graph.json to breaking_bad_social_graph.json\n"
          ],
          "name": "stdout"
        }
      ]
    },
    {
      "cell_type": "markdown",
      "metadata": {
        "id": "ykge6JIAMl6L"
      },
      "source": [
        "Then we create the Graph by using the library **NetworkX**. \r\n",
        "Each node is identified by an integer and has a *label* attribute, while each edge has a *weight* corresponding to the importance of that edge."
      ]
    },
    {
      "cell_type": "code",
      "metadata": {
        "id": "jOcTR31XGAZZ"
      },
      "source": [
        "import networkx as nx\r\n",
        "import json\r\n",
        "import matplotlib.pyplot as plt\r\n",
        "\r\n",
        "\r\n",
        "# Opening JSON file\r\n",
        "f = open('breaking_bad_social_graph.json',)\r\n",
        "file = json.load(f)\r\n",
        "edge_lst = file['edges']\r\n",
        "node_lst = file['nodes']\r\n",
        "\r\n",
        "G = nx.Graph()\r\n",
        "\r\n",
        "ids_and_labels = [(node['id'], node['label']) for node in node_lst]\r\n",
        "for tup in ids_and_labels:\r\n",
        "    G.add_node(int(tup[0]), label=tup[1])\r\n",
        "\r\n",
        "for edge in edge_lst:\r\n",
        "    G.add_edge(int(edge['source']), int(edge['target']), weight=int(edge['size']))"
      ],
      "execution_count": 2,
      "outputs": []
    },
    {
      "cell_type": "markdown",
      "metadata": {
        "id": "o5AStbbUNDS2"
      },
      "source": [
        "Then, we download a picture of the graph.\r\n",
        "\r\n",
        "\r\n"
      ]
    },
    {
      "cell_type": "code",
      "metadata": {
        "colab": {
          "base_uri": "https://localhost:8080/",
          "height": 17
        },
        "id": "r72a72kD5_JG",
        "outputId": "a21346f8-dd3a-4c4a-8b5b-8c26261e97db"
      },
      "source": [
        "from matplotlib import pylab\r\n",
        "\r\n",
        "def save_graph(graph,file_name):\r\n",
        "  #initialze Figure\r\n",
        "  plt.figure(num=None, figsize=(20, 20), dpi=80)\r\n",
        "  plt.axis('off')\r\n",
        "  fig = plt.figure(1)\r\n",
        "  pos = nx.spring_layout(graph)\r\n",
        "  nx.draw_networkx_nodes(graph,pos)\r\n",
        "  nx.draw_networkx_edges(graph,pos)\r\n",
        "\r\n",
        "  plt.savefig(file_name,bbox_inches=\"tight\")\r\n",
        "  files.download(file_name)\r\n",
        "  \r\n",
        "  pylab.close()\r\n",
        "  del fig\r\n",
        "\r\n",
        "#Assuming that the graph g has nodes and edges entered\r\n",
        "save_graph(G,\"my_graph.png\")"
      ],
      "execution_count": null,
      "outputs": [
        {
          "output_type": "display_data",
          "data": {
            "application/javascript": [
              "\n",
              "    async function download(id, filename, size) {\n",
              "      if (!google.colab.kernel.accessAllowed) {\n",
              "        return;\n",
              "      }\n",
              "      const div = document.createElement('div');\n",
              "      const label = document.createElement('label');\n",
              "      label.textContent = `Downloading \"${filename}\": `;\n",
              "      div.appendChild(label);\n",
              "      const progress = document.createElement('progress');\n",
              "      progress.max = size;\n",
              "      div.appendChild(progress);\n",
              "      document.body.appendChild(div);\n",
              "\n",
              "      const buffers = [];\n",
              "      let downloaded = 0;\n",
              "\n",
              "      const channel = await google.colab.kernel.comms.open(id);\n",
              "      // Send a message to notify the kernel that we're ready.\n",
              "      channel.send({})\n",
              "\n",
              "      for await (const message of channel.messages) {\n",
              "        // Send a message to notify the kernel that we're ready.\n",
              "        channel.send({})\n",
              "        if (message.buffers) {\n",
              "          for (const buffer of message.buffers) {\n",
              "            buffers.push(buffer);\n",
              "            downloaded += buffer.byteLength;\n",
              "            progress.value = downloaded;\n",
              "          }\n",
              "        }\n",
              "      }\n",
              "      const blob = new Blob(buffers, {type: 'application/binary'});\n",
              "      const a = document.createElement('a');\n",
              "      a.href = window.URL.createObjectURL(blob);\n",
              "      a.download = filename;\n",
              "      div.appendChild(a);\n",
              "      a.click();\n",
              "      div.remove();\n",
              "    }\n",
              "  "
            ],
            "text/plain": [
              "<IPython.core.display.Javascript object>"
            ]
          },
          "metadata": {
            "tags": []
          }
        },
        {
          "output_type": "display_data",
          "data": {
            "application/javascript": [
              "download(\"download_c5cf48b3-cacb-42f7-aa08-8ba7b8685a41\", \"my_graph.png\", 491781)"
            ],
            "text/plain": [
              "<IPython.core.display.Javascript object>"
            ]
          },
          "metadata": {
            "tags": []
          }
        }
      ]
    },
    {
      "cell_type": "code",
      "metadata": {
        "colab": {
          "base_uri": "https://localhost:8080/"
        },
        "id": "81ck354O-54x",
        "outputId": "a585bbf6-edb5-4ef6-8212-2514c4073e3f"
      },
      "source": [
        "print(\"Number of nodes\", len(node_lst))\r\n",
        "print(\"Number of edges\", len(edge_lst))\r\n",
        "print(\"Average number of edges\", len(edge_lst)/len(node_lst))"
      ],
      "execution_count": null,
      "outputs": [
        {
          "output_type": "stream",
          "text": [
            "Number of nodes 131\n",
            "Number of edges 969\n",
            "Average number of edges 7.396946564885496\n"
          ],
          "name": "stdout"
        }
      ]
    },
    {
      "cell_type": "markdown",
      "metadata": {
        "id": "atPflTi4Na7i"
      },
      "source": [
        "## Centrality measurements"
      ]
    },
    {
      "cell_type": "markdown",
      "metadata": {
        "id": "vl63nhKpNfv3"
      },
      "source": [
        "In order to better describe the graph, we sort the nodes by means of their edges and position in the network. The measures that allow us to do so are called *Centrality measures*."
      ]
    },
    {
      "cell_type": "markdown",
      "metadata": {
        "id": "fizX1IL2SEsP"
      },
      "source": [
        "### Degree Centrality"
      ]
    },
    {
      "cell_type": "markdown",
      "metadata": {
        "id": "-Qp4inFcNSqA"
      },
      "source": [
        "The degree centrality sorts the nodes by means of their **degree** - the number of edges incident to a node -. Since our graph is weighted, also our degrees should be weighted.\r\n",
        "Here are the top 10 nodes in the graph of Breaking Bad."
      ]
    },
    {
      "cell_type": "code",
      "metadata": {
        "colab": {
          "base_uri": "https://localhost:8080/"
        },
        "id": "3Al652elGNlM",
        "outputId": "0132406f-e0f0-4b59-fc93-0b3c7d43f413"
      },
      "source": [
        "centrality_dict = G.degree(weight='weight')\r\n",
        "sorted_centralities = sorted(centrality_dict, key=lambda tup: tup[1])[::-1]\r\n",
        "label_and_centrality = [(id, centrality, G.nodes[id]['label']) for id, centrality in sorted_centralities]\r\n",
        "for n in range(10):\r\n",
        "  print(n+1, label_and_centrality[n][2],label_and_centrality[n][1] )"
      ],
      "execution_count": null,
      "outputs": [
        {
          "output_type": "stream",
          "text": [
            "1 Walter White 1905\n",
            "2 Jesse Pinkman 1318\n",
            "3 Hector \"Tio\" Salamanca 1261\n",
            "4 Hank Schrader 891\n",
            "5 Skyler White 816\n",
            "6 Gustavo Fring 481\n",
            "7 Mike Ehrmantraut 391\n",
            "8 Marie Schrader 388\n",
            "9 Walter White Jr. 329\n",
            "10 Saul Goodman 325\n"
          ],
          "name": "stdout"
        }
      ]
    },
    {
      "cell_type": "markdown",
      "metadata": {
        "id": "7ZHUi2ijSQcj"
      },
      "source": [
        "### Eigenvector Centrality"
      ]
    },
    {
      "cell_type": "markdown",
      "metadata": {
        "id": "TMARPKE-OeNl"
      },
      "source": [
        "The eigenvector centrality is a quite complicate measure of centrality. However, in short, it sorts nodes by means of their connections with nodes that are themselves important.\r\n",
        "Here are the top 10 results."
      ]
    },
    {
      "cell_type": "code",
      "metadata": {
        "colab": {
          "base_uri": "https://localhost:8080/"
        },
        "id": "TayzS3i_BTvn",
        "outputId": "25979a80-e6b8-4e45-a928-dc110a7dd3b8"
      },
      "source": [
        "eigenvector_centrality = nx.eigenvector_centrality(G, weight='weight')\r\n",
        "sorted_centralities= sorted(eigenvector_centrality.items(), key=lambda tup: tup[1])[::-1]\r\n",
        "label_and_centrality = [(id, centrality, G.nodes[id]['label']) for id, centrality in sorted_centralities]\r\n",
        "for n in range(10):\r\n",
        "  print(n+1, label_and_centrality[n][2],label_and_centrality[n][1] )\r\n",
        "\r\n"
      ],
      "execution_count": null,
      "outputs": [
        {
          "output_type": "stream",
          "text": [
            "1 Walter White 0.5561191493843385\n",
            "2 Jesse Pinkman 0.42708451431301075\n",
            "3 Hector \"Tio\" Salamanca 0.4142355691562671\n",
            "4 Skyler White 0.30955904400312917\n",
            "5 Hank Schrader 0.2893235476754151\n",
            "6 Gustavo Fring 0.17412505303342482\n",
            "7 Marie Schrader 0.15224087271812972\n",
            "8 Mike Ehrmantraut 0.14610452706177082\n",
            "9 Walter White Jr. 0.13885421319256727\n",
            "10 Saul Goodman 0.12923470315137206\n"
          ],
          "name": "stdout"
        }
      ]
    },
    {
      "cell_type": "markdown",
      "metadata": {
        "id": "KmeAYLBVSUde"
      },
      "source": [
        "### Betweenness Centrality"
      ]
    },
    {
      "cell_type": "markdown",
      "metadata": {
        "id": "oxFkdU9ZO3C9"
      },
      "source": [
        "The betweenness centrality is another measure of centrality. It considers the importance of a node by considering the time in which that node falls in the shortest path between other two nodes.\r\n",
        "Here are the top 10 results."
      ]
    },
    {
      "cell_type": "code",
      "metadata": {
        "colab": {
          "base_uri": "https://localhost:8080/"
        },
        "id": "YkN9avAbDSi-",
        "outputId": "9477f93b-b761-4473-da0f-f457c704c13e"
      },
      "source": [
        "betweenness_centrality = nx.betweenness_centrality(G, weight='weight')\r\n",
        "sorted_centralities= sorted(betweenness_centrality.items(), key=lambda tup: tup[1])[::-1]\r\n",
        "label_and_centrality = [(id, centrality, G.nodes[id]['label']) for id, centrality in sorted_centralities]\r\n",
        "for n in range(10):\r\n",
        "  print(n+1, label_and_centrality[n][2],label_and_centrality[n][1] )"
      ],
      "execution_count": null,
      "outputs": [
        {
          "output_type": "stream",
          "text": [
            "1 Hector \"Tio\" Salamanca 0.20576275188996843\n",
            "2 Jesse Pinkman 0.1170449841726939\n",
            "3 Walter White 0.08270477670773245\n",
            "4 Mike Ehrmantraut 0.08146799332287566\n",
            "5 Hank Schrader 0.06061627971452165\n",
            "6 Gustavo Fring 0.05687277378263917\n",
            "7 Skyler White 0.05333638477153834\n",
            "8 Steven Gomez 0.04929518194165632\n",
            "9 Saul Goodman 0.042143871680282885\n",
            "10 Skinny Pete 0.03900529601913777\n"
          ],
          "name": "stdout"
        }
      ]
    },
    {
      "cell_type": "markdown",
      "metadata": {
        "id": "AIEhVLE8kces"
      },
      "source": [
        "## Network properties: small-worldness and degree distribution"
      ]
    },
    {
      "cell_type": "markdown",
      "metadata": {
        "id": "ysFwsa9BPgOM"
      },
      "source": [
        "However, our network might have some bigger-scale properties.\r\n",
        "Small-worldness and peculiar degree distributions might be some of them. "
      ]
    },
    {
      "cell_type": "markdown",
      "metadata": {
        "id": "W1fr5m_lVSS0"
      },
      "source": [
        "The purpose of this analysis is to demonstrate that fictional plots might be represented with strongly tied networks that show asymmetries in the distribution of edges. This type of networks, like **small-worlds** or **scale-free networks**, are typical of many systems in biology, physics and social sciences. *These networks are studied because they model many real-world systems*, like neuron cells, protein systems or voters’ networks. For clear reasons, it is extremely interesting for literary studies to discover that fictional plots might be modelled with networks that already have applications in real-world situations. The presence of small-world phenomena regulating fictional stories might suggest a **resemblance between narrative and real-world situations**, thus supporting the Aristotelian theory that every fiction is a mimesis of real-ity."
      ]
    },
    {
      "cell_type": "markdown",
      "metadata": {
        "id": "ycCtQz5zP0ir"
      },
      "source": [
        "### Small-world networks"
      ]
    },
    {
      "cell_type": "markdown",
      "metadata": {
        "id": "jXhq_VQrP6YE"
      },
      "source": [
        "A small-world graph, by analogy with the small-world phenomenon (popularly known as *six degrees of separation*), is a graph in which most of the nodes are not neighbours of each other; however, they are likely to share at least one neighbour and most nodes can be reached by any other node with a small number of steps.\r\n",
        "In this type of networks, usually, we have an over-abundance of *hub*s – nodes in the network with a high degree. Through these hubs that are hugely connected, nodes with a relatively small degree can be connected to any other node with a short path."
      ]
    },
    {
      "cell_type": "markdown",
      "metadata": {
        "id": "XA23AghvQdy7"
      },
      "source": [
        "The small-world coefficient ***σ*** (Sigma) is a simple measure that shows if a network is a small-world - meaning that it has a high clustering coefficient and small path lengths -.\r\n",
        "If *σ* > 1 then the considered graph is a small-world."
      ]
    },
    {
      "cell_type": "code",
      "metadata": {
        "colab": {
          "base_uri": "https://localhost:8080/"
        },
        "id": "TMWZLn-FnI5j",
        "outputId": "e6d50570-ba65-469c-9d2f-acd5fb38c67f"
      },
      "source": [
        "# niter are the number of rewiring per edges \r\n",
        "# while nrand is the number of random graphs to create\r\n",
        "# in order to compute the coefficient\r\n",
        "sigma_bb = nx.sigma(G, niter=10, nrand=10, seed=248)\r\n",
        "print(sigma_bb)"
      ],
      "execution_count": null,
      "outputs": [
        {
          "output_type": "stream",
          "text": [
            "1.1155770594120578\n"
          ],
          "name": "stdout"
        }
      ]
    },
    {
      "cell_type": "markdown",
      "metadata": {
        "id": "q9s5LO33RfLu"
      },
      "source": [
        "### Power-law degree distributions"
      ]
    },
    {
      "cell_type": "markdown",
      "metadata": {
        "id": "nofzD5_CRsdP"
      },
      "source": [
        "Small-world networks, as already said, are often related to fat-tailed distributions of degrees. \r\n",
        "Fat-tailed distributions include many types of distributions: the power law distribution, the log-normal distribution and the stretched exponential distribution, among others. Power laws are often studied in network theory since they are index of network *invariance to scale* and *preferential attachment to hubs*. "
      ]
    },
    {
      "cell_type": "code",
      "metadata": {
        "colab": {
          "base_uri": "https://localhost:8080/"
        },
        "id": "5NOwOZzTh4sT",
        "outputId": "dc5d95c5-c25f-42e6-98b1-ba346980dc2c"
      },
      "source": [
        "pip install powerlaw"
      ],
      "execution_count": 3,
      "outputs": [
        {
          "output_type": "stream",
          "text": [
            "Collecting powerlaw\n",
            "  Downloading https://files.pythonhosted.org/packages/d5/4e/3ceab890fafff8e78a5fd7f5340c232c38b21d181fcd32d7a31079db3646/powerlaw-1.4.6.tar.gz\n",
            "Requirement already satisfied: scipy in /usr/local/lib/python3.6/dist-packages (from powerlaw) (1.4.1)\n",
            "Requirement already satisfied: numpy in /usr/local/lib/python3.6/dist-packages (from powerlaw) (1.19.5)\n",
            "Requirement already satisfied: matplotlib in /usr/local/lib/python3.6/dist-packages (from powerlaw) (3.2.2)\n",
            "Requirement already satisfied: mpmath in /usr/local/lib/python3.6/dist-packages (from powerlaw) (1.1.0)\n",
            "Requirement already satisfied: kiwisolver>=1.0.1 in /usr/local/lib/python3.6/dist-packages (from matplotlib->powerlaw) (1.3.1)\n",
            "Requirement already satisfied: python-dateutil>=2.1 in /usr/local/lib/python3.6/dist-packages (from matplotlib->powerlaw) (2.8.1)\n",
            "Requirement already satisfied: pyparsing!=2.0.4,!=2.1.2,!=2.1.6,>=2.0.1 in /usr/local/lib/python3.6/dist-packages (from matplotlib->powerlaw) (2.4.7)\n",
            "Requirement already satisfied: cycler>=0.10 in /usr/local/lib/python3.6/dist-packages (from matplotlib->powerlaw) (0.10.0)\n",
            "Requirement already satisfied: six>=1.5 in /usr/local/lib/python3.6/dist-packages (from python-dateutil>=2.1->matplotlib->powerlaw) (1.15.0)\n",
            "Building wheels for collected packages: powerlaw\n",
            "  Building wheel for powerlaw (setup.py) ... \u001b[?25l\u001b[?25hdone\n",
            "  Created wheel for powerlaw: filename=powerlaw-1.4.6-cp36-none-any.whl size=24788 sha256=4db7d792ded01b802498791e4fa0442e60df34c0a65bc2b8b509eba2abceaad4\n",
            "  Stored in directory: /root/.cache/pip/wheels/e0/27/02/08d0e2865072bfd8d7c655e290521e3feca3fc22f1ac460601\n",
            "Successfully built powerlaw\n",
            "Installing collected packages: powerlaw\n",
            "Successfully installed powerlaw-1.4.6\n"
          ],
          "name": "stdout"
        }
      ]
    },
    {
      "cell_type": "code",
      "metadata": {
        "colab": {
          "base_uri": "https://localhost:8080/",
          "height": 360
        },
        "id": "pGTETBvvfjI5",
        "outputId": "63af872a-d6e7-46fa-d31b-3c878d2e553f"
      },
      "source": [
        "degree_sequence = sorted([d for n, d in G.degree(weight='weight')], reverse=True) # used for degree distribution and powerlaw test\r\n",
        "import powerlaw # Power laws are probability distributions with the form:p(x)∝x−α\r\n",
        "fit = powerlaw.Fit(degree_sequence) \r\n",
        "print('Alpha coefficient of the distribution is ', fit.power_law.alpha)\r\n",
        "fig2 = fit.plot_pdf(color='b', linewidth=2)\r\n",
        "fit.power_law.plot_pdf(color='g', linestyle='--', ax=fig2)"
      ],
      "execution_count": 5,
      "outputs": [
        {
          "output_type": "stream",
          "text": [
            "Alpha coefficient of the distribution is  1.6557514278086778\n"
          ],
          "name": "stdout"
        },
        {
          "output_type": "stream",
          "text": [
            "Calculating best minimal value for power law fit\n",
            "/usr/local/lib/python3.6/dist-packages/powerlaw.py:700: RuntimeWarning: invalid value encountered in true_divide\n",
            "  (Theoretical_CDF * (1 - Theoretical_CDF))\n"
          ],
          "name": "stderr"
        },
        {
          "output_type": "execute_result",
          "data": {
            "text/plain": [
              "<matplotlib.axes._subplots.AxesSubplot at 0x7f900b482160>"
            ]
          },
          "metadata": {
            "tags": []
          },
          "execution_count": 5
        },
        {
          "output_type": "display_data",
          "data": {
            "image/png": "[encoded data removed]",
            "text/plain": [
              "<Figure size 432x288 with 1 Axes>"
            ]
          },
          "metadata": {
            "tags": [],
            "needs_background": "light"
          }
        }
      ]
    },
    {
      "cell_type": "markdown",
      "metadata": {
        "id": "0_FFajcmSSnm"
      },
      "source": [
        "Often, distribution that looks like power laws can fit also different fat-tailed models, such as the *truncated power law*. A likelihood test will show that a power law with an exponential cut-off is a better explanation"
      ]
    },
    {
      "cell_type": "code",
      "metadata": {
        "colab": {
          "base_uri": "https://localhost:8080/"
        },
        "id": "1Fuc5PPKibZD",
        "outputId": "bf1ad8fb-9001-45e4-d4c2-6d031d217396"
      },
      "source": [
        "R, p = fit.distribution_compare('power_law', 'truncated_power_law', normalized_ratio=True)\r\n",
        "print (R, p)\r\n",
        "# if R is negative it means that the second distribution is preferred over the first"
      ],
      "execution_count": 6,
      "outputs": [
        {
          "output_type": "stream",
          "text": [
            "Assuming nested distributions\n",
            "/usr/local/lib/python3.6/dist-packages/powerlaw.py:700: RuntimeWarning: invalid value encountered in true_divide\n",
            "  (Theoretical_CDF * (1 - Theoretical_CDF))\n"
          ],
          "name": "stderr"
        },
        {
          "output_type": "stream",
          "text": [
            "-1.8853925412034742 0.022588006941956174\n"
          ],
          "name": "stdout"
        }
      ]
    },
    {
      "cell_type": "code",
      "metadata": {
        "colab": {
          "base_uri": "https://localhost:8080/"
        },
        "id": "Tunj0SL_SxFf",
        "outputId": "14da6674-7f31-42fe-ed29-929f0e3b3c1a"
      },
      "source": [
        "R, p = fit.distribution_compare('power_law', 'lognormal', normalized_ratio=True)\r\n",
        "print (R, p)\r\n",
        "# if R is negative it means that the second distribution is preferred over the first"
      ],
      "execution_count": 7,
      "outputs": [
        {
          "output_type": "stream",
          "text": [
            "-1.3499689685238856 0.1770259369460846\n"
          ],
          "name": "stdout"
        },
        {
          "output_type": "stream",
          "text": [
            "/usr/local/lib/python3.6/dist-packages/powerlaw.py:700: RuntimeWarning: invalid value encountered in true_divide\n",
            "  (Theoretical_CDF * (1 - Theoretical_CDF))\n"
          ],
          "name": "stderr"
        }
      ]
    },
    {
      "cell_type": "markdown",
      "metadata": {
        "id": "0KRAK5aETHwF"
      },
      "source": [
        "After different likelihood test and a visualization the degree distribution seems better explainable with a lognormal distribution or a truncated power law."
      ]
    },
    {
      "cell_type": "code",
      "metadata": {
        "colab": {
          "base_uri": "https://localhost:8080/",
          "height": 396
        },
        "id": "AxqKJ7S1jF10",
        "outputId": "1eeb15e0-a9b9-4c82-ecfb-014cead4eb70"
      },
      "source": [
        "plt.figure(figsize=(10, 6))\r\n",
        "fit.distribution_compare('power_law', 'lognormal')\r\n",
        "fig4 = fit.plot_ccdf(linewidth=3, color='black')\r\n",
        "fit.power_law.plot_ccdf(ax=fig4, color='r', linestyle='--') #powerlaw\r\n",
        "fit.lognormal.plot_ccdf(ax=fig4, color='g', linestyle='--') #lognormal\r\n",
        "fit.truncated_power_law.plot_ccdf(ax=fig4, color='b', linestyle='--') #truncated_powerlaw"
      ],
      "execution_count": 8,
      "outputs": [
        {
          "output_type": "execute_result",
          "data": {
            "text/plain": [
              "<matplotlib.axes._subplots.AxesSubplot at 0x7f90094c8f98>"
            ]
          },
          "metadata": {
            "tags": []
          },
          "execution_count": 8
        },
        {
          "output_type": "display_data",
          "data": {
            "image/png": "[encoded data removed]",
            "text/plain": [
              "<Figure size 720x432 with 1 Axes>"
            ]
          },
          "metadata": {
            "tags": [],
            "needs_background": "light"
          }
        }
      ]
    },
    {
      "cell_type": "markdown",
      "metadata": {
        "id": "6IlopSfE4tvv"
      },
      "source": [
        "# Network evolution in time"
      ]
    },
    {
      "cell_type": "markdown",
      "metadata": {
        "id": "wFs1D5xbTUVo"
      },
      "source": [
        "Moreover, small-world networks have demonstrated to be more robust than random graphs, meaning that their structure is more resilient to perturbations. Consequently, what we want to furtherly investigate is that, if the property of small-worldness is given in our characters’ network, it should not disappear due to the deletions of certain nodes. We will follow the evolution of the plot to change the structure of the graph. In the end, we would like to verify that, if the network of Breaking Bad manifests the small-world property, this type of property does not disappear as the graph evolves in time across the 5 seasons of the tv-show."
      ]
    },
    {
      "cell_type": "markdown",
      "metadata": {
        "id": "6S2wE4FNUh3g"
      },
      "source": [
        "What we will do is to create a list of nodes corresponding to the characters that die for each season."
      ]
    },
    {
      "cell_type": "code",
      "metadata": {
        "id": "lA9qcKagmMvl"
      },
      "source": [
        "deaths_in_s1 = [42, 26]\r\n",
        "deaths_in_s2 = [18, 58, 70, 47, 35, 32, 7]\r\n",
        "deaths_in_s3 = [16, 194, 65, 82, 44, 33, 60, 11]\r\n",
        "deaths_in_s4 = [29, 24, 30, 46, 41, 3, 15, 39]\r\n",
        "deaths_in_s5 = [50, 52, 54, 37, 4, 61, 71, 64, 38, 31, 5, 19, 55, 95, 85, 90, 9, 20, 6, 8]\r\n",
        "\r\n"
      ],
      "execution_count": 11,
      "outputs": []
    },
    {
      "cell_type": "markdown",
      "metadata": {
        "id": "jDBSR2oOUqvM"
      },
      "source": [
        "Then we create 5 different graphs by deleting the nodes corresponding to the dead characters. We remove also isolated nodes because they are forbidden in the computation of the sigma coefficient."
      ]
    },
    {
      "cell_type": "code",
      "metadata": {
        "id": "VfrJJvh5mapD"
      },
      "source": [
        "G1 = G.copy()\r\n",
        "for id in deaths_in_s1:\r\n",
        "    G1.remove_node(id)\r\n",
        "G2 = G1.copy()\r\n",
        "for id in deaths_in_s2:\r\n",
        "    G2.remove_node(id)\r\n",
        "\r\n",
        "G3 = G2.copy()\r\n",
        "for id in deaths_in_s3:\r\n",
        "    G3.remove_node(id)\r\n",
        "    isolated_nodes = list(nx.isolates(G3))\r\n",
        "    G3.remove_nodes_from(isolated_nodes)\r\n",
        "\r\n",
        "G4 = G3.copy()\r\n",
        "for id in deaths_in_s4:\r\n",
        "    G4.remove_node(id)\r\n",
        "    isolated_nodes = list(nx.isolates(G4))\r\n",
        "    G4.remove_nodes_from(isolated_nodes)\r\n",
        "\r\n",
        "G5 = G4.copy()\r\n",
        "for id in deaths_in_s5:\r\n",
        "    G5.remove_node(id)\r\n",
        "    isolated_nodes = list(nx.isolates(G5))\r\n",
        "    G5.remove_nodes_from(isolated_nodes)\r\n"
      ],
      "execution_count": 12,
      "outputs": []
    },
    {
      "cell_type": "markdown",
      "metadata": {
        "id": "MJOwHERtUfAA"
      },
      "source": [
        "To demonstrate the resilience of the network, we consider sufficient that the small-world coeffi-cient ***σ*** should not drop to values < 1 after several perturbations of the network."
      ]
    },
    {
      "cell_type": "code",
      "metadata": {
        "id": "Bpor-fgt6E87",
        "colab": {
          "base_uri": "https://localhost:8080/"
        },
        "outputId": "e4eb3a3b-14df-420c-8a5e-06b2d2ac5d89"
      },
      "source": [
        "sigma1 = nx.sigma(G1, niter=10, nrand=10, seed=248)\r\n",
        "print('sigma after deaths in s1', sigma1)\r\n",
        "\r\n",
        "sigma2 = nx.sigma(G2, niter=10, nrand=10, seed=248)\r\n",
        "print('sigma after deaths in s2', sigma2)\r\n",
        "\r\n",
        "sigma3 = nx.sigma(G3, niter=10, nrand=10, seed=248)\r\n",
        "print('sigma after deaths in s3', sigma3)\r\n",
        "\r\n",
        "sigma4 = nx.sigma(G4, niter=10, nrand=10, seed=248)\r\n",
        "print('sigma after deaths in s4', sigma4)\r\n",
        "\r\n",
        "sigma5 = nx.sigma(G5, niter=10, nrand=10, seed=248)\r\n",
        "print('sigma after deaths in s5', sigma5)"
      ],
      "execution_count": null,
      "outputs": [
        {
          "output_type": "stream",
          "text": [
            "sigma after deaths in s1 1.1154677921948937\n",
            "sigma after deaths in s2 1.1225840043418112\n",
            "sigma after deaths in s3 1.1237803226944318\n",
            "sigma after deaths in s4 1.145699935595984\n",
            "sigma after deaths in s5 1.2746014171597286\n"
          ],
          "name": "stdout"
        }
      ]
    },
    {
      "cell_type": "markdown",
      "metadata": {
        "id": "pm3qb2JCVMc3"
      },
      "source": [
        "The network is pretty robust!!"
      ]
    }
  ]
}